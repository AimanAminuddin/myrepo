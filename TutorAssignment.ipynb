{
 "cells": [
  {
   "cell_type": "markdown",
   "metadata": {},
   "source": [
    "# Load Packages"
   ]
  },
  {
   "cell_type": "code",
   "execution_count": 1,
   "metadata": {},
   "outputs": [
    {
     "ename": "ModuleNotFoundError",
     "evalue": "No module named 'docplex'",
     "output_type": "error",
     "traceback": [
      "\u001b[0;31m---------------------------------------------------------------------------\u001b[0m",
      "\u001b[0;31mModuleNotFoundError\u001b[0m                       Traceback (most recent call last)",
      "Cell \u001b[0;32mIn[1], line 2\u001b[0m\n\u001b[1;32m      1\u001b[0m \u001b[38;5;28;01mimport\u001b[39;00m \u001b[38;5;21;01mpandas\u001b[39;00m \u001b[38;5;28;01mas\u001b[39;00m \u001b[38;5;21;01mpd\u001b[39;00m\n\u001b[0;32m----> 2\u001b[0m \u001b[38;5;28;01mfrom\u001b[39;00m \u001b[38;5;21;01mutils\u001b[39;00m\u001b[38;5;21;01m.\u001b[39;00m\u001b[38;5;21;01mmodel\u001b[39;00m \u001b[38;5;28;01mimport\u001b[39;00m TutorAssignmentModel\n\u001b[1;32m      3\u001b[0m \u001b[38;5;28;01mimport\u001b[39;00m \u001b[38;5;21;01mmatplotlib\u001b[39;00m\u001b[38;5;21;01m.\u001b[39;00m\u001b[38;5;21;01mpyplot\u001b[39;00m \u001b[38;5;28;01mas\u001b[39;00m \u001b[38;5;21;01mplt\u001b[39;00m\n\u001b[1;32m      4\u001b[0m \u001b[38;5;28;01mimport\u001b[39;00m \u001b[38;5;21;01mseaborn\u001b[39;00m \u001b[38;5;28;01mas\u001b[39;00m \u001b[38;5;21;01msns\u001b[39;00m\n",
      "File \u001b[0;32m~/Documents/myrepo/utils/model.py:5\u001b[0m\n\u001b[1;32m      3\u001b[0m \u001b[38;5;28;01mimport\u001b[39;00m \u001b[38;5;21;01mos\u001b[39;00m\n\u001b[1;32m      4\u001b[0m \u001b[38;5;66;03m# Use to build model for constraint optimization\u001b[39;00m\n\u001b[0;32m----> 5\u001b[0m \u001b[38;5;28;01mfrom\u001b[39;00m \u001b[38;5;21;01mdocplex\u001b[39;00m\u001b[38;5;21;01m.\u001b[39;00m\u001b[38;5;21;01mmp\u001b[39;00m\u001b[38;5;21;01m.\u001b[39;00m\u001b[38;5;21;01mmodel\u001b[39;00m \u001b[38;5;28;01mimport\u001b[39;00m Model\n\u001b[1;32m      6\u001b[0m \u001b[38;5;28;01mimport\u001b[39;00m \u001b[38;5;21;01mpandas\u001b[39;00m \u001b[38;5;28;01mas\u001b[39;00m \u001b[38;5;21;01mpd\u001b[39;00m\n\u001b[1;32m      7\u001b[0m \u001b[38;5;28;01mimport\u001b[39;00m \u001b[38;5;21;01mmath\u001b[39;00m\n",
      "\u001b[0;31mModuleNotFoundError\u001b[0m: No module named 'docplex'"
     ]
    }
   ],
   "source": [
    "import pandas as pd\n",
    "from utils.model import TutorAssignmentModel\n",
    "import matplotlib.pyplot as plt\n",
    "import seaborn as sns\n",
    "\n",
    "# Set plot style\n",
    "sns.set_style(\"whitegrid\")\n",
    "plt.rcParams['figure.figsize'] = (10,6)"
   ]
  },
  {
   "cell_type": "markdown",
   "metadata": {},
   "source": [
    "# Load Data"
   ]
  },
  {
   "cell_type": "code",
   "execution_count": null,
   "metadata": {},
   "outputs": [],
   "source": [
    "DATA_PATH = \"./data/small_data.xlsx\"\n",
    "\n",
    "# Load specific sheets\n",
    "new_student_info = pd.read_excel(DATA_PATH, sheet_name=\"New Students\")\n",
    "tutors = pd.read_excel(DATA_PATH, sheet_name=\"Tutor Information\")\n",
    "existing_student_info = pd.read_excel(DATA_PATH, sheet_name=\"Existing Students\")\n",
    "existing_student_info_filtered = existing_student_info[existing_student_info['active'] == True]"
   ]
  },
  {
   "cell_type": "code",
   "execution_count": null,
   "metadata": {},
   "outputs": [],
   "source": [
    "new_student_info"
   ]
  },
  {
   "cell_type": "markdown",
   "metadata": {},
   "source": [
    "# Scenario 1: Minimize total tutor used & maximize tutor preference"
   ]
  },
  {
   "cell_type": "code",
   "execution_count": null,
   "metadata": {},
   "outputs": [],
   "source": [
    "# optimizer = TutorAssignmentModel(\n",
    "#         new_students=new_student_info,tutor_info=tutors,\n",
    "#         existing_students=existing_student_info_filtered,\n",
    "#         beta= 0.9,\n",
    "#         scenario=1\n",
    "#         )\n",
    "# optimizer.main_process()"
   ]
  },
  {
   "cell_type": "markdown",
   "metadata": {},
   "source": [
    "## Generate reports for analysis"
   ]
  },
  {
   "cell_type": "code",
   "execution_count": null,
   "metadata": {},
   "outputs": [],
   "source": [
    "path = './results/'\n",
    "task_1_assignments = pd.read_csv(f'{path}scenario_1_assignment_results.csv')\n",
    "task_1_preference_report = pd.read_csv(f'{path}scenario_1_preference_report.csv')\n",
    "task_1_tutor_summary = pd.read_csv(f'{path}scenario_1_tutor_summary.csv')"
   ]
  },
  {
   "cell_type": "markdown",
   "metadata": {},
   "source": [
    "## Visualisation"
   ]
  },
  {
   "cell_type": "markdown",
   "metadata": {},
   "source": [
    "### Tutor Utilization\n",
    "\n"
   ]
  },
  {
   "cell_type": "markdown",
   "metadata": {},
   "source": [
    "#### Bar chart: How many students are assigned to each tutor compared against tutor's max capacity"
   ]
  },
  {
   "cell_type": "code",
   "execution_count": null,
   "metadata": {},
   "outputs": [],
   "source": [
    "plt.figure()\n",
    "plt.bar(task_1_tutor_summary[\"TutorID\"],task_1_tutor_summary[\"TotalAssigned\"], label=\"Total Assigned\", color=\"skyblue\")\n",
    "plt.plot(task_1_tutor_summary[\"TutorID\"],task_1_tutor_summary[\"MaxCapacity\"], 'r--', label=\"Max Capacity\")\n",
    "plt.xlabel(\"Tutor ID\")\n",
    "plt.ylabel(\"Students\")\n",
    "plt.title(\"Tutor Utilization vs. Max Capacity\")\n",
    "plt.legend()\n",
    "plt.xticks(rotation=45)\n",
    "plt.tight_layout()\n",
    "plt.show()"
   ]
  },
  {
   "cell_type": "markdown",
   "metadata": {},
   "source": [
    "#### Bar Chart: Each tutor's assigned student stacked against remaining capacity"
   ]
  },
  {
   "cell_type": "code",
   "execution_count": null,
   "metadata": {},
   "outputs": [],
   "source": [
    "task_1_tutor_summary"
   ]
  },
  {
   "cell_type": "code",
   "execution_count": null,
   "metadata": {},
   "outputs": [],
   "source": [
    "# Calculate utility as fraction of max capacity\n",
    "task_1_tutor_summary[\"UtilityPct\"] = (task_1_tutor_summary[\"TotalAssigned\"] / \n",
    "                                      task_1_tutor_summary[\"MaxCapacity\"] * 100)\n",
    "\n",
    "plt.figure(figsize=(10,6))\n",
    "\n",
    "# Stacked bars\n",
    "plt.bar(task_1_tutor_summary[\"TutorID\"], task_1_tutor_summary[\"TotalAssigned\"], \n",
    "        label=\"Assigned\", color=\"skyblue\")\n",
    "plt.bar(task_1_tutor_summary[\"TutorID\"], \n",
    "        task_1_tutor_summary[\"MaxCapacity\"] - task_1_tutor_summary[\"TotalAssigned\"], \n",
    "        bottom=task_1_tutor_summary[\"TotalAssigned\"], \n",
    "        label=\"Remaining Capacity\", color=\"lightgray\")\n",
    "\n",
    "# Overlay utility percentage on top of bars\n",
    "for idx, row in task_1_tutor_summary.iterrows():\n",
    "        plt.text(\n",
    "                row[\"TutorID\"], row[\"TotalAssigned\"] + 0.2, \n",
    "                f'{row[\"UtilityPct\"]:.0f}%', ha='center', va='bottom', fontsize=9, fontweight='bold')\n",
    "\n",
    "plt.xlabel(\"Tutor ID\")\n",
    "plt.ylabel(\"Number of Students\")\n",
    "plt.title(\"Tutor Capacity vs Students Assigned (with Utility %)\")\n",
    "plt.legend()\n",
    "plt.tight_layout()\n",
    "plt.show()"
   ]
  },
  {
   "cell_type": "markdown",
   "metadata": {},
   "source": [
    "#### Stacked Bar Chart: Total Student assigned to different Tutors browken down into Existing VS New Students"
   ]
  },
  {
   "cell_type": "code",
   "execution_count": null,
   "metadata": {},
   "outputs": [],
   "source": [
    "plt.bar(task_1_tutor_summary[\"TutorID\"], task_1_tutor_summary[\"Existing\"], label=\"Existing\", color=\"lightgray\")\n",
    "plt.bar(task_1_tutor_summary[\"TutorID\"], task_1_tutor_summary[\"NewAssigned\"], bottom=task_1_tutor_summary[\"Existing\"], label=\"New Assigned\", color=\"skyblue\")\n",
    "plt.xlabel(\"Tutor ID\")\n",
    "plt.ylabel(\"Number of Students\")\n",
    "plt.title(\"Task 1: Tutor Utilization (Existing + New)\")\n",
    "plt.legend()\n",
    "plt.tight_layout()\n",
    "plt.show()"
   ]
  },
  {
   "cell_type": "markdown",
   "metadata": {},
   "source": [
    "### Free Capacity Distribution"
   ]
  },
  {
   "cell_type": "markdown",
   "metadata": {},
   "source": [
    "#### Histogram showing discrete counts of tutors for each free capacity value"
   ]
  },
  {
   "cell_type": "code",
   "execution_count": null,
   "metadata": {},
   "outputs": [],
   "source": [
    "# Count number of tutors per exact free capacity\n",
    "summary_counts = task_1_tutor_summary[\"FreeCapacity\"].value_counts().sort_index()\n",
    "\n",
    "# Vertical bar plot\n",
    "plt.figure(figsize=(8,5))\n",
    "plt.bar(summary_counts.index, summary_counts.values, color=\"lightgreen\", edgecolor=\"black\")\n",
    "plt.xlabel(\"Free Capacity\")\n",
    "plt.ylabel(\"Number of Tutors\")\n",
    "plt.title(\"Tutor Free Capacity Distribution (Discrete)\")\n",
    "\n",
    "plt.xticks(summary_counts.index)  # ensure all integer free capacities shown\n",
    "plt.tight_layout()\n",
    "plt.show()\n"
   ]
  },
  {
   "cell_type": "markdown",
   "metadata": {},
   "source": [
    "### Preference Satistifaction by Centre"
   ]
  },
  {
   "cell_type": "code",
   "execution_count": null,
   "metadata": {},
   "outputs": [],
   "source": [
    "task_1_preference_report"
   ]
  },
  {
   "cell_type": "markdown",
   "metadata": {},
   "source": [
    "#### Bar Chart: Proportion of student–tutor assignments where the tutor’s preferred centre includes the student’s tuition centre"
   ]
  },
  {
   "cell_type": "code",
   "execution_count": null,
   "metadata": {},
   "outputs": [],
   "source": [
    "pref_rate = task_1_preference_report[\"MatchPref\"].mean() * 100\n",
    "print(f\"Overall Tutor Preference Satisfaction: {pref_rate:.1f}%\")\n",
    "\n",
    "pref_by_centre = task_1_preference_report.groupby(\"StudentCentre\")[\"MatchPref\"].mean().mul(100)\n",
    "pref_by_centre.plot(kind='bar', color='orange')\n",
    "plt.ylabel(\"% of Matches Meeting Tutor Preference\")\n",
    "plt.title(\"Preference Satisfaction by Tuition Centre\")\n",
    "plt.xticks(rotation=0)\n",
    "plt.tight_layout()\n",
    "plt.show()\n"
   ]
  },
  {
   "cell_type": "markdown",
   "metadata": {},
   "source": [
    "### Assignment Matrix"
   ]
  },
  {
   "cell_type": "markdown",
   "metadata": {},
   "source": [
    "#### Visualises assignment of new students to different tutors (sanity check that 1 student - 1 tutor rule met)"
   ]
  },
  {
   "cell_type": "code",
   "execution_count": null,
   "metadata": {},
   "outputs": [],
   "source": [
    "pivot = task_1_assignments.pivot_table(index=\"TutorID\", columns=\"StudentID\", aggfunc=len, fill_value=0)\n",
    "\n",
    "plt.figure(figsize=(12,8))\n",
    "sns.heatmap(pivot, cmap=\"Blues\", cbar=True, linewidths=0.5, linecolor='gray', annot=True, fmt=\"d\")\n",
    "plt.xlabel(\"Student ID\")\n",
    "plt.ylabel(\"Tutor ID\")\n",
    "plt.title(\"Tutor–Student Assignment Matrix\")\n",
    "plt.tight_layout()\n",
    "plt.show()"
   ]
  },
  {
   "cell_type": "markdown",
   "metadata": {},
   "source": [
    "# Scenario 2: Balance tutor's workload while maximizing tutor's preference on tuition centre"
   ]
  },
  {
   "cell_type": "code",
   "execution_count": null,
   "metadata": {},
   "outputs": [],
   "source": [
    "# optimizer = TutorAssignmentModel(\n",
    "#         new_students=new_student_info,tutor_info=tutors,\n",
    "#         existing_students=existing_student_info_filtered,\n",
    "#         beta= 0.9,\n",
    "#         scenario=2\n",
    "#         )\n",
    "# optimizer.main_process()"
   ]
  },
  {
   "cell_type": "markdown",
   "metadata": {},
   "source": [
    "## Generate Reports for analysis"
   ]
  },
  {
   "cell_type": "code",
   "execution_count": null,
   "metadata": {},
   "outputs": [],
   "source": [
    "path = './results/'\n",
    "task_2_assignments = pd.read_csv(f'{path}scenario_2_assignment_results.csv')\n",
    "task_2_preference_report = pd.read_csv(f'{path}scenario_2_preference_report.csv')\n",
    "task_2_tutor_summary = pd.read_csv(f'{path}scenario_2_tutor_summary.csv')"
   ]
  },
  {
   "cell_type": "markdown",
   "metadata": {},
   "source": [
    "## Visualisation"
   ]
  },
  {
   "cell_type": "markdown",
   "metadata": {},
   "source": [
    "### Tutor Utilization"
   ]
  },
  {
   "cell_type": "markdown",
   "metadata": {},
   "source": [
    "#### Bar chart: How many students are assigned to each tutor compared against tutor's max capacity"
   ]
  },
  {
   "cell_type": "code",
   "execution_count": null,
   "metadata": {},
   "outputs": [],
   "source": [
    "plt.figure()\n",
    "plt.bar(task_2_tutor_summary[\"TutorID\"],task_2_tutor_summary[\"TotalAssigned\"], label=\"Total Assigned\", color=\"skyblue\")\n",
    "plt.plot(task_2_tutor_summary[\"TutorID\"],task_2_tutor_summary[\"MaxCapacity\"], 'r--', label=\"Max Capacity\")\n",
    "plt.xlabel(\"Tutor ID\")\n",
    "plt.ylabel(\"Students\")\n",
    "plt.title(\"Tutor Utilization vs. Max Capacity\")\n",
    "plt.legend()\n",
    "plt.xticks(rotation=45)\n",
    "plt.tight_layout()\n",
    "plt.show()"
   ]
  },
  {
   "cell_type": "markdown",
   "metadata": {},
   "source": [
    "#### Bar Chart: Each tutor's assigned student stacked against remaining capacity"
   ]
  },
  {
   "cell_type": "code",
   "execution_count": null,
   "metadata": {},
   "outputs": [],
   "source": [
    "\n",
    "# Calculate utility as fraction of max capacity\n",
    "task_2_tutor_summary[\"UtilityPct\"] = (task_2_tutor_summary[\"TotalAssigned\"] / \n",
    "                                      task_2_tutor_summary[\"MaxCapacity\"] * 100)\n",
    "\n",
    "plt.figure(figsize=(10,6))\n",
    "\n",
    "# Stacked bars\n",
    "plt.bar(task_2_tutor_summary[\"TutorID\"], task_2_tutor_summary[\"TotalAssigned\"], \n",
    "        label=\"Assigned\", color=\"skyblue\")\n",
    "plt.bar(task_2_tutor_summary[\"TutorID\"], \n",
    "        task_2_tutor_summary[\"MaxCapacity\"] - task_2_tutor_summary[\"TotalAssigned\"], \n",
    "        bottom=task_2_tutor_summary[\"TotalAssigned\"], \n",
    "        label=\"Remaining Capacity\", color=\"lightgray\")\n",
    "\n",
    "# Overlay utility percentage on top of bars\n",
    "for idx, row in task_2_tutor_summary.iterrows():\n",
    "        plt.text(\n",
    "                row[\"TutorID\"], row[\"TotalAssigned\"] + 0.2, \n",
    "                f'{row[\"UtilityPct\"]:.0f}%', ha='center', va='bottom', fontsize=9, fontweight='bold')\n",
    "\n",
    "plt.xlabel(\"Tutor ID\")\n",
    "plt.ylabel(\"Number of Students\")\n",
    "plt.title(\"Tutor Capacity vs Students Assigned (with Utility %)\")\n",
    "plt.legend()\n",
    "plt.tight_layout()\n",
    "plt.show()"
   ]
  },
  {
   "cell_type": "markdown",
   "metadata": {},
   "source": [
    "#### Bar chart showing the Workload utilization against Average Tutor Utilisation"
   ]
  },
  {
   "cell_type": "code",
   "execution_count": null,
   "metadata": {},
   "outputs": [],
   "source": [
    "# Calculate utilization as percentage\n",
    "task_2_tutor_summary['Utilization'] = task_2_tutor_summary['TotalAssigned'] / task_2_tutor_summary['MaxCapacity'] * 100\n",
    "\n",
    "plt.figure(figsize=(10,6))\n",
    "bars = plt.bar(\n",
    "    task_2_tutor_summary[\"TutorID\"], \n",
    "    task_2_tutor_summary[\"Utilization\"], \n",
    "    color=\"skyblue\", edgecolor=\"black\")\n",
    "\n",
    "# Average utilization line\n",
    "plt.axhline(y=task_2_tutor_summary[\"Utilization\"].mean(), color='red', linestyle='--', label='Average Utilization')\n",
    "\n",
    "# Add numbers on top of each bar as percentages\n",
    "for bar in bars:\n",
    "    height = bar.get_height()\n",
    "    plt.text(\n",
    "        bar.get_x() + bar.get_width()/2, height + 1, \n",
    "        f'{height:.0f}%', ha='center', va='bottom', fontsize=9)\n",
    "\n",
    "plt.xlabel(\"Tutor ID\")\n",
    "plt.ylabel(\"Utilization (%)\")\n",
    "plt.title(\"Tutor Workload Utilization\")\n",
    "plt.ylim(0,110)  # slightly higher to accommodate labels\n",
    "plt.legend()\n",
    "plt.tight_layout()\n",
    "plt.show()\n",
    "\n"
   ]
  },
  {
   "cell_type": "markdown",
   "metadata": {},
   "source": [
    "#### Stacked Bar Chart: Total Student assigned to different Tutors browken down into Existing VS New Students"
   ]
  },
  {
   "cell_type": "code",
   "execution_count": null,
   "metadata": {},
   "outputs": [],
   "source": [
    "plt.bar(task_2_tutor_summary[\"TutorID\"], task_2_tutor_summary[\"Existing\"], label=\"Existing\", color=\"lightgray\")\n",
    "plt.bar(task_2_tutor_summary[\"TutorID\"], task_2_tutor_summary[\"NewAssigned\"], bottom=task_2_tutor_summary[\"Existing\"], label=\"New Assigned\", color=\"skyblue\")\n",
    "plt.xlabel(\"Tutor ID\")\n",
    "plt.ylabel(\"Number of Students\")\n",
    "plt.title(\"Task 2: Tutor Utilization (Existing + New)\")\n",
    "plt.legend()\n",
    "plt.tight_layout()\n",
    "plt.show()\n"
   ]
  },
  {
   "cell_type": "markdown",
   "metadata": {},
   "source": [
    "### Free Capacity Distribution"
   ]
  },
  {
   "cell_type": "markdown",
   "metadata": {},
   "source": [
    "#### Bar Chart showing discrete counts of tutors for each free capacity value"
   ]
  },
  {
   "cell_type": "code",
   "execution_count": null,
   "metadata": {},
   "outputs": [],
   "source": [
    "# Count number of tutors per exact free capacity\n",
    "summary_counts = task_2_tutor_summary[\"FreeCapacity\"].value_counts().sort_index()\n",
    "\n",
    "# Vertical bar plot\n",
    "plt.figure(figsize=(8,5))\n",
    "plt.bar(summary_counts.index, summary_counts.values, color=\"lightgreen\", edgecolor=\"black\")\n",
    "plt.xlabel(\"Free Capacity\")\n",
    "plt.ylabel(\"Number of Tutors\")\n",
    "plt.title(\"Tutor Free Capacity Distribution (Discrete)\")\n",
    "\n",
    "plt.xticks(summary_counts.index)  # ensure all integer free capacities shown\n",
    "plt.tight_layout()\n",
    "plt.show()\n"
   ]
  },
  {
   "cell_type": "markdown",
   "metadata": {},
   "source": [
    "### Preference Satisfaction by Centre"
   ]
  },
  {
   "cell_type": "markdown",
   "metadata": {},
   "source": [
    "#### Bar Chart: Proportion of student–tutor assignments where the tutor’s preferred centre includes the student’s tuition centre"
   ]
  },
  {
   "cell_type": "code",
   "execution_count": null,
   "metadata": {},
   "outputs": [],
   "source": [
    "task_2_preference_report"
   ]
  },
  {
   "cell_type": "code",
   "execution_count": null,
   "metadata": {},
   "outputs": [],
   "source": [
    "pref_rate = task_2_preference_report[\"MatchPref\"].mean() * 100\n",
    "print(f\"Overall Tutor Preference Satisfaction: {pref_rate:.1f}%\")\n",
    "\n",
    "pref_by_centre = task_2_preference_report.groupby(\"StudentCentre\")[\"MatchPref\"].mean().mul(100)\n",
    "pref_by_centre.plot(kind='bar', color='orange')\n",
    "plt.ylabel(\"% of Matches Meeting Tutor Preference\")\n",
    "plt.title(\"Preference Satisfaction by Tuition Centre\")\n",
    "plt.xticks(rotation=0)\n",
    "plt.tight_layout()\n",
    "plt.show()\n"
   ]
  },
  {
   "cell_type": "markdown",
   "metadata": {},
   "source": [
    "### Assignment Matrix"
   ]
  },
  {
   "cell_type": "markdown",
   "metadata": {},
   "source": [
    "#### Visualises assignment of new students to different tutors (sanity check that 1 student - 1 tutor rule met)"
   ]
  },
  {
   "cell_type": "code",
   "execution_count": null,
   "metadata": {},
   "outputs": [],
   "source": [
    "pivot = task_2_assignments.pivot_table(index=\"TutorID\", columns=\"StudentID\", aggfunc=len, fill_value=0)\n",
    "\n",
    "plt.figure(figsize=(12,8))\n",
    "sns.heatmap(pivot, cmap=\"Blues\", cbar=True, linewidths=0.5, linecolor='gray', annot=True, fmt=\"d\")\n",
    "plt.xlabel(\"Student ID\")\n",
    "plt.ylabel(\"Tutor ID\")\n",
    "plt.title(\"Tutor–Student Assignment Matrix\")\n",
    "plt.tight_layout()\n",
    "plt.show()"
   ]
  },
  {
   "cell_type": "markdown",
   "metadata": {},
   "source": [
    "### Comparing Efficiency (Total tutors used) VS Avg Free Capacity (Workload Balance)"
   ]
  },
  {
   "cell_type": "markdown",
   "metadata": {},
   "source": [
    "#### Bar chart comparing Scenario 1 and Scenario 2 in terms of tutors used and average free capacity (Attached the actual values below)"
   ]
  },
  {
   "cell_type": "code",
   "execution_count": null,
   "metadata": {},
   "outputs": [],
   "source": [
    "try:\n",
    "    task_2_tutor_summary = pd.read_csv(\"./results/scenario_2_tutor_summary.csv\")\n",
    "    comp = pd.DataFrame({\n",
    "        \"Scenario\": [\"1 - Efficiency\", \"2 - Fairness\"],\n",
    "        \"Tutors Used\": [\n",
    "            (task_1_tutor_summary[\"TotalAssigned\"] > 0).sum(),\n",
    "            (task_2_tutor_summary[\"TotalAssigned\"] > 0).sum()\n",
    "        ],\n",
    "        \"Stadard Deviation Free Capacity\": [\n",
    "            task_1_tutor_summary[\"FreeCapacity\"].std(),\n",
    "            task_2_tutor_summary[\"FreeCapacity\"].std()\n",
    "        ]\n",
    "    })\n",
    "    comp.set_index(\"Scenario\").plot(kind=\"bar\", color=[\"skyblue\",\"lightgreen\"])\n",
    "    plt.title(\"Scenario Comparison: Tutors Used vs Standard Deviation of Free Capacity\")\n",
    "    plt.ylabel(\"Count / Capacity\")\n",
    "    plt.xticks(rotation=0)\n",
    "    plt.tight_layout()\n",
    "    plt.show()\n",
    "except FileNotFoundError:\n",
    "    print(\"Scenario 2 data not found. Skipping scenario comparison.\")"
   ]
  },
  {
   "cell_type": "code",
   "execution_count": null,
   "metadata": {},
   "outputs": [],
   "source": [
    "comp"
   ]
  }
 ],
 "metadata": {
  "kernelspec": {
   "display_name": "venv",
   "language": "python",
   "name": "python3"
  },
  "language_info": {
   "codemirror_mode": {
    "name": "ipython",
    "version": 3
   },
   "file_extension": ".py",
   "mimetype": "text/x-python",
   "name": "python",
   "nbconvert_exporter": "python",
   "pygments_lexer": "ipython3",
   "version": "3.11.9"
  }
 },
 "nbformat": 4,
 "nbformat_minor": 2
}
